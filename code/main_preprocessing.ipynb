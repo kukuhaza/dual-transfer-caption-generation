{
 "cells": [
  {
   "cell_type": "code",
   "execution_count": 29,
   "metadata": {},
   "outputs": [],
   "source": [
    "import json\n",
    "import random\n",
    "import pickle\n",
    "from zipfile import ZipFile\n",
    "from collections import namedtuple\n",
    "import os\n",
    "\n",
    "import matplotlib.pyplot as plt"
   ]
  },
  {
   "cell_type": "markdown",
   "metadata": {},
   "source": [
    "# Reformat Captions File (one run for Train, another for Valid)"
   ]
  },
  {
   "cell_type": "code",
   "execution_count": 10,
   "metadata": {},
   "outputs": [],
   "source": [
    "ZIP_PATH = \"data/raw/annotations_trainval2017.zip\"\n",
    "\n",
    "INNER_PATH = \"annotations/captions_train2017.json\"\n",
    "OUT_PATH = \"data/train_captions.pickle\"\n",
    "\n",
    "#INNER_PATH = \"annotations/captions_val2017.json\"\n",
    "#OUT_PATH = \"data/valid_captions.pickle\""
   ]
  },
  {
   "cell_type": "markdown",
   "metadata": {},
   "source": [
    "### Read Captions"
   ]
  },
  {
   "cell_type": "code",
   "execution_count": 11,
   "metadata": {},
   "outputs": [],
   "source": [
    "def read_captions(zip_path, inner_path):\n",
    "    with ZipFile(zip_path) as zf:\n",
    "        with zf.open(inner_path, \"r\") as raw_json:\n",
    "            return json.load(raw_json)\n",
    "\n",
    "raw_json = read_captions(ZIP_PATH, INNER_PATH)\n",
    "\n",
    "meta_images = raw_json[\"images\"]\n",
    "raw_annotations = raw_json[\"annotations\"]"
   ]
  },
  {
   "cell_type": "markdown",
   "metadata": {},
   "source": [
    "### Print Stats"
   ]
  },
  {
   "cell_type": "code",
   "execution_count": 12,
   "metadata": {},
   "outputs": [
    {
     "name": "stdout",
     "output_type": "stream",
     "text": [
      "Number of Images: 118287 \n",
      "\n",
      "license: 3\n",
      "file_name: 000000391895.jpg\n",
      "coco_url: http://images.cocodataset.org/train2017/000000391895.jpg\n",
      "height: 360\n",
      "width: 640\n",
      "date_captured: 2013-11-14 11:18:45\n",
      "flickr_url: http://farm9.staticflickr.com/8186/8119368305_4e622c8349_z.jpg\n",
      "id: 391895\n"
     ]
    }
   ],
   "source": [
    "print(\"Number of Images:\", len(meta_images), \"\\n\")\n",
    "for key, val in meta_images[0].items():\n",
    "    print(key, \": \", val, sep=\"\")"
   ]
  },
  {
   "cell_type": "code",
   "execution_count": 13,
   "metadata": {},
   "outputs": [
    {
     "name": "stdout",
     "output_type": "stream",
     "text": [
      "Number of Captions: 591753 \n",
      "\n",
      "image_id: 203564\n",
      "id: 37\n",
      "caption: A bicycle replica with a clock as the front wheel.\n"
     ]
    }
   ],
   "source": [
    "print(\"Number of Captions:\", len(raw_annotations), \"\\n\")\n",
    "\n",
    "for key, val in raw_annotations[0].items():\n",
    "    print(key, \": \", val, sep=\"\")"
   ]
  },
  {
   "cell_type": "code",
   "execution_count": 14,
   "metadata": {},
   "outputs": [
    {
     "name": "stdout",
     "output_type": "stream",
     "text": [
      "Minimums:\t 59 w 51 h\n",
      "Maximums:\t 640 w 640 h\n",
      "Mean:   \t 578 w 484 h\n"
     ]
    }
   ],
   "source": [
    "widths, heights = [], []\n",
    "for image in meta_images:\n",
    "    widths.append(image[\"width\"])\n",
    "    heights.append(image[\"height\"])\n",
    "\n",
    "print(\"Minimums:\\t\", min(widths), \"w\", min(heights), \"h\")\n",
    "print(\"Maximums:\\t\", max(widths), \"w\", max(heights), \"h\")\n",
    "print(\"Mean:   \\t\", round(sum(widths)/len(meta_images)), \"w\", round(sum(heights)/len(meta_images)), \"h\")"
   ]
  },
  {
   "cell_type": "code",
   "execution_count": 15,
   "metadata": {},
   "outputs": [
    {
     "name": "stdout",
     "output_type": "stream",
     "text": [
      "Widths hist:\n"
     ]
    },
    {
     "data": {
      "image/png": "[encoded data removed]",
      "text/plain": [
       "<Figure size 432x288 with 1 Axes>"
      ]
     },
     "metadata": {
      "needs_background": "light"
     },
     "output_type": "display_data"
    },
    {
     "name": "stdout",
     "output_type": "stream",
     "text": [
      "Heights hist:\n"
     ]
    },
    {
     "data": {
      "image/png": "[encoded data removed]",
      "text/plain": [
       "<Figure size 432x288 with 1 Axes>"
      ]
     },
     "metadata": {
      "needs_background": "light"
     },
     "output_type": "display_data"
    }
   ],
   "source": [
    "print(\"Widths hist:\")\n",
    "plt.hist(widths, bins=35)\n",
    "plt.show()\n",
    "print(\"Heights hist:\")\n",
    "plt.hist(heights, bins=35)\n",
    "plt.show()"
   ]
  },
  {
   "cell_type": "markdown",
   "metadata": {},
   "source": [
    "##### EfficientNet optimal image size by architecture\n",
    "\n",
    "efficientnet-b0-224\n",
    "\n",
    "efficientnet-b1-240\n",
    "\n",
    "efficientnet-b2-260\n",
    "\n",
    "efficientnet-b3-300\n",
    "\n",
    "efficientnet-b4-380\n",
    "\n",
    "efficientnet-b5-456\n",
    "\n",
    "efficientnet-b6-528\n",
    "\n",
    "efficientnet-b7-600"
   ]
  },
  {
   "cell_type": "markdown",
   "metadata": {},
   "source": [
    "### Generate and save final captions"
   ]
  },
  {
   "cell_type": "code",
   "execution_count": 16,
   "metadata": {},
   "outputs": [],
   "source": [
    "Caption = namedtuple(\"Caption\", \"image text\")\n",
    "\n",
    "def generate_captions(annotations):\n",
    "    captions = []\n",
    "\n",
    "    for annotation in raw_annotations:\n",
    "        image = str(annotation[\"image_id\"])  # + \".jpg\"\n",
    "        text = annotation[\"caption\"]\n",
    "        captions.append(Caption(image=image, text=text))\n",
    "\n",
    "    random.shuffle(captions)\n",
    "    return captions\n",
    "\n",
    "captions = generate_captions(raw_annotations)"
   ]
  },
  {
   "cell_type": "code",
   "execution_count": 17,
   "metadata": {},
   "outputs": [],
   "source": [
    "with open(OUT_PATH, \"wb\") as handler:\n",
    "    pickle.dump(captions, handler)"
   ]
  },
  {
   "cell_type": "markdown",
   "metadata": {},
   "source": [
    "# Reformat Captions File (3 runs for Train, Valid and Test)"
   ]
  },
  {
   "cell_type": "code",
   "execution_count": 45,
   "metadata": {},
   "outputs": [],
   "source": [
    "ZIP_PATH = \"data/raw/train2017.zip\"\n",
    "OUT_PATH = \"data/train_images\"\n",
    "\n",
    "#ZIP_PATH = \"data/raw/val2017.zip\"\n",
    "#OUT_PATH = \"data/valid_images\"\n",
    "\n",
    "#ZIP_PATH = \"data/raw/test2017.zip\"\n",
    "#OUT_PATH = \"data/test_images\""
   ]
  },
  {
   "cell_type": "code",
   "execution_count": 44,
   "metadata": {},
   "outputs": [],
   "source": [
    "def extract_images(zip_path, out_path):\n",
    "    if not os.path.exists(out_path):\n",
    "        os.mkdir(out_path)\n",
    "    \n",
    "    with ZipFile(zip_path) as zf:\n",
    "        for in_file in zf.namelist():\n",
    "            if in_file[-1] == \"/\":\n",
    "                continue\n",
    "            \n",
    "            out_file = str(int(in_file[-16:-4])) + in_file[-4:]\n",
    "            out_file = os.path.join(out_path, out_file)\n",
    "            \n",
    "            with zf.open(in_file, \"r\") as image:\n",
    "                with open(out_file, \"wb\") as file:\n",
    "                    file.write(image.read())\n",
    "                \n",
    "\n",
    "raw_json = extract_images(ZIP_PATH, OUT_PATH)"
   ]
  },
  {
   "cell_type": "markdown",
   "metadata": {},
   "source": [
    "END!"
   ]
  }
 ],
 "metadata": {
  "kernelspec": {
   "display_name": "Python 3",
   "language": "python",
   "name": "python3"
  },
  "language_info": {
   "codemirror_mode": {
    "name": "ipython",
    "version": 3
   },
   "file_extension": ".py",
   "mimetype": "text/x-python",
   "name": "python",
   "nbconvert_exporter": "python",
   "pygments_lexer": "ipython3",
   "version": "3.7.6"
  }
 },
 "nbformat": 4,
 "nbformat_minor": 4
}
